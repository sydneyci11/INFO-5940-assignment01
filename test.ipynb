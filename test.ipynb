{
 "cells": [
  {
   "cell_type": "code",
   "execution_count": 3,
   "metadata": {},
   "outputs": [
    {
     "name": "stdout",
     "output_type": "stream",
     "text": [
      "openai.o1.2024-12-17\n",
      "openai.gpt-4o-mini\n",
      "cohere.command-r-plus\n",
      "anthropic.claude-3-haiku\n",
      "anthropic.claude-3.5-sonnet.v2\n",
      "openai.o1-mini\n",
      "openai.o1-mini.2024-09-12\n",
      "openai.text-embedding-3-small\n",
      "anthropic.claude-3.5-haiku\n",
      "meta.llama-3.3-70b-instruct\n",
      "meta.llama-3.2-1b-instruct\n",
      "anthropic.claude-3-opus\n",
      "amazon.nova-lite\n",
      "cohere.embed-english.v3\n",
      "stability.stable-image-ultra\n",
      "meta.llama-3.2-3b-instruct\n",
      "openai.gpt-4o\n",
      "openai.o3-mini.2025-01-31\n",
      "openai.o1\n",
      "amazon.titan-text-embeddings.v2\n",
      "amazon.nova-micro\n",
      "cohere.command-r\n",
      "openai.text-embedding-3-large\n",
      "openai.gpt-4o.2024-11-20\n",
      "openai.tts\n",
      "openai.o3-mini\n",
      "meta.llama-3.1-405b-instruct\n",
      "openai.gpt-4o.2024-08-06\n",
      "openai.tts-hd\n",
      "meta.llama-3.2-90b-vision-instruct\n",
      "amazon.nova-pro\n",
      "stability.stable-diffusion-3.5-large\n",
      "openai.whisper\n",
      "openai.gpt-4o-mini.2024-07-18\n",
      "meta.llama-3.2-11b-vision-instruct\n"
     ]
    }
   ],
   "source": [
    "from openai import OpenAI\n",
    "\n",
    "client = OpenAI(api_key=\"sk-fdjJJUSK0Xuz0j1Xexm5WQ\")\n",
    "\n",
    "models = client.models.list()\n",
    "for model in models.data:\n",
    "    print(model.id)  # This prints all available models"
   ]
  }
 ],
 "metadata": {
  "kernelspec": {
   "display_name": "Python 3",
   "language": "python",
   "name": "python3"
  },
  "language_info": {
   "codemirror_mode": {
    "name": "ipython",
    "version": 3
   },
   "file_extension": ".py",
   "mimetype": "text/x-python",
   "name": "python",
   "nbconvert_exporter": "python",
   "pygments_lexer": "ipython3",
   "version": "3.11.11"
  }
 },
 "nbformat": 4,
 "nbformat_minor": 2
}
